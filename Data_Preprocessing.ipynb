{
 "cells": [
  {
   "cell_type": "code",
   "execution_count": 67,
   "metadata": {
    "ExecuteTime": {
     "end_time": "2018-05-01T18:48:11.026455Z",
     "start_time": "2018-05-01T18:48:10.872002Z"
    }
   },
   "outputs": [],
   "source": [
    "import string\n",
    "import math\n",
    "import re\n",
    "from pickle import dump\n",
    "from unicodedata import normalize\n",
    "from numpy import array\n",
    "from pickle import load\n",
    "from numpy.random import rand\n",
    "from numpy.random import shuffle"
   ]
  },
  {
   "cell_type": "code",
   "execution_count": 3,
   "metadata": {
    "ExecuteTime": {
     "end_time": "2018-05-01T18:48:11.273086Z",
     "start_time": "2018-05-01T18:48:11.260092Z"
    }
   },
   "outputs": [],
   "source": [
    "# load doc into memory\n",
    "def load_doc(filename):\n",
    "    # open the file as read only\n",
    "    file = open(filename, mode='rt', encoding='utf-8')\n",
    "    # read all text\n",
    "    text = file.read()\n",
    "    # close the file\n",
    "    file.close()\n",
    "    return text\n",
    "\n",
    "# split a loaded document into sentences\n",
    "def to_pairs(doc):\n",
    "    lines = doc.strip().split('\\n')\n",
    "    pairs = [line.split('\\t') for line in  lines]\n",
    "    return pairs\n",
    "\n",
    "# clean a list of lines\n",
    "def clean_pairs(lines):\n",
    "    cleaned = list()\n",
    "    # prepare regex for char filtering\n",
    "    re_print = re.compile('[^%s]' % re.escape(string.printable))\n",
    "    # prepare translation table for removing punctuation\n",
    "    table = str.maketrans('', '', string.punctuation)\n",
    "    for pair in lines:\n",
    "        clean_pair = list()\n",
    "        for line in pair:\n",
    "            # normalize unicode characters\n",
    "            line = normalize('NFD', line).encode('ascii', 'ignore')\n",
    "            line = line.decode('UTF-8')\n",
    "            # tokenize on white space\n",
    "            line = line.split()\n",
    "            # convert to lowercase\n",
    "            line = [word.lower() for word in line]\n",
    "            # remove punctuation from each token\n",
    "            line = [word.translate(table) for word in line]\n",
    "            # remove non-printable chars form each token\n",
    "            line = [re_print.sub('', w) for w in line]\n",
    "            # remove tokens with numbers in them\n",
    "            line = [word for word in line if word.isalpha()]\n",
    "            # store as string\n",
    "            clean_pair.append(' '.join(line))\n",
    "        cleaned.append(clean_pair)\n",
    "    return array(cleaned)\n",
    "\n",
    "# save a list of clean sentences to file\n",
    "def save_clean_data(sentences, filename):\n",
    "    dump(sentences, open(filename, 'wb'))\n",
    "    print('Saved: %s' % filename)"
   ]
  },
  {
   "cell_type": "code",
   "execution_count": 4,
   "metadata": {
    "ExecuteTime": {
     "end_time": "2018-05-01T18:48:18.836811Z",
     "start_time": "2018-05-01T18:48:11.844239Z"
    }
   },
   "outputs": [
    {
     "name": "stdout",
     "output_type": "stream",
     "text": [
      "Saved: english-spanish.pkl\n",
      "[be careful] => [ten cuidado]\n",
      "[be careful] => [se cuidadoso]\n",
      "[be content] => [estate contento]\n",
      "[be on time] => [llega a tiempo]\n",
      "[be on time] => [llegue a tiempo]\n",
      "[be patient] => [sea paciente]\n",
      "[be serious] => [se serio]\n",
      "[birds sing] => [los pajaros cantan]\n",
      "[birds sing] => [los pajaros estan cantando]\n",
      "[bring food] => [traed comida]\n",
      "[bring help] => [traed ayuda]\n",
      "[bring wine] => [trae vino]\n",
      "[can i come] => [puedo ir]\n",
      "[can i come] => [puedo venir]\n",
      "[can i come] => [puedo acercarme]\n",
      "[can i help] => [puedo ayudar]\n",
      "[can i stay] => [me puedo quedar]\n",
      "[carry this] => [lleva esto]\n",
      "[check that] => [comprobad eso]\n",
      "[check this] => [comprueba esto]\n",
      "[choose one] => [escoge uno]\n",
      "[come again] => [vuelve otra vez]\n",
      "[come alone] => [ven solo]\n",
      "[come along] => [vente]\n",
      "[come along] => [venganse]\n",
      "[come early] => [veni temprano]\n",
      "[come early] => [ven temprano]\n",
      "[come early] => [vengan temprano]\n",
      "[come early] => [venga temprano]\n",
      "[come on in] => [pasale]\n",
      "[come on in] => [pasele]\n",
      "[come on in] => [pasenle]\n",
      "[come on in] => [entre]\n",
      "[come on in] => [pase]\n",
      "[come quick] => [ven rapido]\n",
      "[come quick] => [veni rapido]\n",
      "[come to me] => [ven a mi]\n",
      "[come to me] => [venid a mi]\n",
      "[come to us] => [ven a nosotros]\n",
      "[come to us] => [venid a nosotros]\n",
      "[cut it out] => [ya parale]\n",
      "[did tom go] => [fue tom]\n",
      "[do come in] => [pasale]\n",
      "[do come in] => [pasele]\n",
      "[do come in] => [pasenle]\n",
      "[do come in] => [pasa adentro]\n",
      "[do come in] => [entra de una vez]\n",
      "[do come in] => [entra ya]\n",
      "[do come in] => [metete dentro]\n",
      "[do men cry] => [los hombres lloran]\n",
      "[dont come] => [no vengas]\n",
      "[dont jump] => [no salteis]\n",
      "[dont look] => [no mireis]\n",
      "[dont move] => [no os movais]\n",
      "[dont move] => [no te muevas]\n",
      "[dont move] => [no se mueva]\n",
      "[dont move] => [no se muevan]\n",
      "[dont sing] => [no cantes]\n",
      "[dont sing] => [no canten]\n",
      "[dont stop] => [no pares]\n",
      "[dont talk] => [no hables]\n",
      "[dont talk] => [no hables]\n",
      "[dont wait] => [no esperes]\n",
      "[dont wait] => [no esperen]\n",
      "[dont wait] => [no esperes]\n",
      "[dont yell] => [no grites]\n",
      "[eat slowly] => [come despacio]\n",
      "[eat slowly] => [come despacio]\n",
      "[fire burns] => [el fuego quema]\n",
      "[follow tom] => [seguilo a tomas]\n",
      "[follow tom] => [siguelo a tomas]\n",
      "[follow tom] => [sigalo a tomas]\n",
      "[follow tom] => [siganlo a tomas]\n",
      "[follow him] => [siguele]\n",
      "[follow him] => [siguelo]\n",
      "[forget tom] => [olvidate de tomas]\n",
      "[forget tom] => [olvidate de tomas]\n",
      "[forget tom] => [olvidese de tomas]\n",
      "[forget him] => [olvidenlo]\n",
      "[forgive us] => [perdonanos]\n",
      "[forgive us] => [perdonenos]\n",
      "[get a life] => [consiguete una vida]\n",
      "[get inside] => [entra]\n",
      "[get to bed] => [vete a la cama]\n",
      "[give it up] => [dejalo]\n",
      "[go on home] => [vete a casa]\n",
      "[go on home] => [vayase a casa]\n",
      "[go see tom] => [ve a ver a tom]\n",
      "[go to work] => [anda a trabajar]\n",
      "[god exists] => [dios existe]\n",
      "[have faith] => [ten fe]\n",
      "[have faith] => [tened fe]\n",
      "[have faith] => [tengan fe]\n",
      "[have faith] => [confien]\n",
      "[he ate out] => [el salio a comer]\n",
      "[he coughed] => [tosio]\n",
      "[he gave in] => [el se rindio]\n",
      "[he gave up] => [se rindio]\n",
      "[he gave up] => [lo dejo]\n",
      "[he gave up] => [cedio]\n"
     ]
    }
   ],
   "source": [
    "# load dataset\n",
    "filename = 'spa.txt'\n",
    "doc = load_doc(filename)\n",
    "# split into english-spanish pairs\n",
    "pairs = to_pairs(doc)\n",
    "# clean sentences\n",
    "clean_pairs = clean_pairs(pairs)\n",
    "# save clean pairs to file\n",
    "save_clean_data(clean_pairs, 'english-spanish.pkl')\n",
    "# spot check\n",
    "for i in range(900,1000):\n",
    "\tprint('[%s] => [%s]' % (clean_pairs[i,0], clean_pairs[i,1]))"
   ]
  },
  {
   "cell_type": "code",
   "execution_count": 70,
   "metadata": {
    "ExecuteTime": {
     "end_time": "2018-05-02T13:09:13.107882Z",
     "start_time": "2018-05-02T13:09:09.396318Z"
    }
   },
   "outputs": [
    {
     "name": "stdout",
     "output_type": "stream",
     "text": [
      "Saved: english-spanish-both.pkl\n",
      "Saved: english-spanish-train.pkl\n",
      "Saved: english-spanish-test.pkl\n"
     ]
    }
   ],
   "source": [
    "def load_clean_sentences(filename):\n",
    "\treturn load(open(filename, 'rb'))\n",
    "\n",
    "# save a list of clean sentences to file\n",
    "def save_clean_data(sentences, filename):\n",
    "\tdump(sentences, open(filename, 'wb'))\n",
    "\tprint('Saved: %s' % filename)\n",
    "\n",
    "# load dataset\n",
    "raw_dataset = load_clean_sentences('english-spanish.pkl')\n",
    "new_dataset = []\n",
    "shuffle(raw_dataset)\n",
    "for i in raw_dataset:\n",
    "    if len(i[1].split(\" \")) <= 4 and len(i[0].split(\" \")) <= 4:\n",
    "        new_dataset.append([i[0],i[1]])\n",
    "new_dataset = array(new_dataset)\n",
    "n_sentences = len(dataset)\n",
    "dataset = new_dataset[:n_sentences, :]\n",
    "# random shuffle\n",
    "shuffle(dataset)\n",
    "# split into train/test\n",
    "split = math.floor(len(dataset) - (len(dataset)*0.2))\n",
    "train, test = dataset[:split], dataset[split:]\n",
    "# save\n",
    "save_clean_data(dataset, 'english-spanish-both.pkl')\n",
    "save_clean_data(train, 'english-spanish-train.pkl')\n",
    "save_clean_data(test, 'english-spanish-test.pkl')"
   ]
  },
  {
   "cell_type": "code",
   "execution_count": null,
   "metadata": {
    "ExecuteTime": {
     "end_time": "2018-05-01T19:05:15.692278Z",
     "start_time": "2018-05-01T19:05:08.759097Z"
    }
   },
   "outputs": [],
   "source": []
  },
  {
   "cell_type": "code",
   "execution_count": null,
   "metadata": {
    "ExecuteTime": {
     "end_time": "2018-05-01T18:10:16.439141Z",
     "start_time": "2018-05-01T18:10:16.433138Z"
    }
   },
   "outputs": [],
   "source": []
  },
  {
   "cell_type": "code",
   "execution_count": null,
   "metadata": {},
   "outputs": [],
   "source": []
  },
  {
   "cell_type": "code",
   "execution_count": null,
   "metadata": {},
   "outputs": [],
   "source": []
  }
 ],
 "metadata": {
  "kernelspec": {
   "display_name": "conda_tensorflow_p36",
   "language": "python",
   "name": "conda_tensorflow_p36"
  },
  "language_info": {
   "codemirror_mode": {
    "name": "ipython",
    "version": 3
   },
   "file_extension": ".py",
   "mimetype": "text/x-python",
   "name": "python",
   "nbconvert_exporter": "python",
   "pygments_lexer": "ipython3",
   "version": "3.6.4"
  },
  "toc": {
   "nav_menu": {},
   "number_sections": true,
   "sideBar": true,
   "skip_h1_title": false,
   "title_cell": "Table of Contents",
   "title_sidebar": "Contents",
   "toc_cell": false,
   "toc_position": {},
   "toc_section_display": true,
   "toc_window_display": false
  },
  "varInspector": {
   "cols": {
    "lenName": 16,
    "lenType": 16,
    "lenVar": 40
   },
   "kernels_config": {
    "python": {
     "delete_cmd_postfix": "",
     "delete_cmd_prefix": "del ",
     "library": "var_list.py",
     "varRefreshCmd": "print(var_dic_list())"
    },
    "r": {
     "delete_cmd_postfix": ") ",
     "delete_cmd_prefix": "rm(",
     "library": "var_list.r",
     "varRefreshCmd": "cat(var_dic_list()) "
    }
   },
   "types_to_exclude": [
    "module",
    "function",
    "builtin_function_or_method",
    "instance",
    "_Feature"
   ],
   "window_display": false
  }
 },
 "nbformat": 4,
 "nbformat_minor": 2
}
