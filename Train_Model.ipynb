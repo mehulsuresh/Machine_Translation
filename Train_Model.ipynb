{
 "cells": [
  {
   "cell_type": "code",
   "execution_count": 23,
   "metadata": {
    "ExecuteTime": {
     "end_time": "2018-05-02T13:06:48.648934Z",
     "start_time": "2018-05-02T13:06:44.701192Z"
    }
   },
   "outputs": [
    {
     "data": {
      "text/plain": [
       "['/job:localhost/replica:0/task:0/device:GPU:0']"
      ]
     },
     "execution_count": 23,
     "metadata": {},
     "output_type": "execute_result"
    }
   ],
   "source": [
    "from pickle import load\n",
    "from numpy import array\n",
    "from keras.preprocessing.text import Tokenizer\n",
    "from keras.preprocessing.sequence import pad_sequences\n",
    "from keras.utils import to_categorical\n",
    "from keras.utils.vis_utils import plot_model\n",
    "from keras.models import Sequential\n",
    "from keras.layers import LSTM\n",
    "from keras.layers import Dense\n",
    "from keras.layers import Embedding\n",
    "from keras.layers import RepeatVector\n",
    "from keras.layers import TimeDistributed\n",
    "from keras.callbacks import ModelCheckpoint\n",
    "from keras.callbacks import EarlyStopping\n",
    "from keras import backend as K\n",
    "K.tensorflow_backend._get_available_gpus()"
   ]
  },
  {
   "cell_type": "code",
   "execution_count": 2,
   "metadata": {
    "ExecuteTime": {
     "end_time": "2018-05-02T13:06:48.718971Z",
     "start_time": "2018-05-02T13:06:48.705959Z"
    }
   },
   "outputs": [],
   "source": [
    "# load a clean dataset\n",
    "def load_clean_sentences(filename):\n",
    "    return load(open(filename, 'rb'))\n",
    " \n",
    "# fit a tokenizer\n",
    "def create_tokenizer(lines):\n",
    "    tokenizer = Tokenizer()\n",
    "    tokenizer.fit_on_texts(lines)\n",
    "    return tokenizer\n",
    " \n",
    "# max sentence length\n",
    "def max_length(lines):\n",
    "    return max(len(line.split()) for line in lines)\n",
    " \n",
    "# encode and pad sequences\n",
    "def encode_sequences(tokenizer, length, lines):\n",
    "    # integer encode sequences\n",
    "    X = tokenizer.texts_to_sequences(lines)\n",
    "    # pad sequences with 0 values\n",
    "    X = pad_sequences(X, maxlen=length, padding='post')\n",
    "    return X\n",
    " \n",
    "# one hot encode target sequence\n",
    "def encode_output(sequences, vocab_size):\n",
    "    ylist = list()\n",
    "    for sequence in sequences:\n",
    "        encoded = to_categorical(sequence, num_classes=vocab_size)\n",
    "        ylist.append(encoded)\n",
    "    y = array(ylist)\n",
    "    y = y.reshape(sequences.shape[0], sequences.shape[1], vocab_size)\n",
    "    return y\n",
    " \n",
    "# define NMT model\n",
    "def define_model(src_vocab, tar_vocab, src_timesteps, tar_timesteps, n_units):\n",
    "    model = Sequential()\n",
    "    model.add(Embedding(src_vocab, n_units, input_length=src_timesteps, mask_zero=True))\n",
    "    model.add(LSTM(n_units))\n",
    "    model.add(RepeatVector(tar_timesteps))\n",
    "    model.add(LSTM(n_units, return_sequences=True))\n",
    "    model.add(TimeDistributed(Dense(tar_vocab, activation='softmax')))\n",
    "    return model\n"
   ]
  },
  {
   "cell_type": "code",
   "execution_count": 21,
   "metadata": {
    "ExecuteTime": {
     "start_time": "2018-05-02T13:06:47.241Z"
    }
   },
   "outputs": [
    {
     "name": "stdout",
     "output_type": "stream",
     "text": [
      "English Vocabulary Size: 5240\n",
      "English Max Length: 4\n",
      "German Vocabulary Size: 9116\n",
      "German Max Length: 4\n",
      "_________________________________________________________________\n",
      "Layer (type)                 Output Shape              Param #   \n",
      "=================================================================\n",
      "embedding_12 (Embedding)     (None, 4, 128)            1166848   \n",
      "_________________________________________________________________\n",
      "lstm_23 (LSTM)               (None, 128)               131584    \n",
      "_________________________________________________________________\n",
      "repeat_vector_12 (RepeatVect (None, 4, 128)            0         \n",
      "_________________________________________________________________\n",
      "lstm_24 (LSTM)               (None, 4, 128)            131584    \n",
      "_________________________________________________________________\n",
      "time_distributed_12 (TimeDis (None, 4, 5240)           675960    \n",
      "=================================================================\n",
      "Total params: 2,105,976\n",
      "Trainable params: 2,105,976\n",
      "Non-trainable params: 0\n",
      "_________________________________________________________________\n",
      "None\n",
      "Train on 20000 samples, validate on 4541 samples\n",
      "Epoch 1/30\n",
      " - 12s - loss: 6.2461 - val_loss: 5.7782\n",
      "\n",
      "Epoch 00001: val_loss improved from inf to 5.77823, saving model to model.h5\n",
      "Epoch 2/30\n",
      " - 9s - loss: 5.5965 - val_loss: 5.6223\n",
      "\n",
      "Epoch 00002: val_loss improved from 5.77823 to 5.62232, saving model to model.h5\n",
      "Epoch 3/30\n",
      " - 9s - loss: 5.4476 - val_loss: 5.5126\n",
      "\n",
      "Epoch 00003: val_loss improved from 5.62232 to 5.51260, saving model to model.h5\n",
      "Epoch 4/30\n",
      " - 9s - loss: 5.3243 - val_loss: 5.4250\n",
      "\n",
      "Epoch 00004: val_loss improved from 5.51260 to 5.42501, saving model to model.h5\n",
      "Epoch 5/30\n",
      " - 9s - loss: 5.2196 - val_loss: 5.3526\n",
      "\n",
      "Epoch 00005: val_loss improved from 5.42501 to 5.35256, saving model to model.h5\n",
      "Epoch 6/30\n",
      " - 9s - loss: 5.1123 - val_loss: 5.2527\n",
      "\n",
      "Epoch 00006: val_loss improved from 5.35256 to 5.25267, saving model to model.h5\n",
      "Epoch 7/30\n",
      " - 9s - loss: 4.9604 - val_loss: 5.1194\n",
      "\n",
      "Epoch 00007: val_loss improved from 5.25267 to 5.11939, saving model to model.h5\n",
      "Epoch 8/30\n",
      " - 9s - loss: 4.7712 - val_loss: 4.9220\n",
      "\n",
      "Epoch 00008: val_loss improved from 5.11939 to 4.92203, saving model to model.h5\n",
      "Epoch 9/30\n",
      " - 9s - loss: 4.5095 - val_loss: 4.7104\n",
      "\n",
      "Epoch 00009: val_loss improved from 4.92203 to 4.71042, saving model to model.h5\n",
      "Epoch 10/30\n",
      " - 9s - loss: 4.2406 - val_loss: 4.4894\n",
      "\n",
      "Epoch 00010: val_loss improved from 4.71042 to 4.48944, saving model to model.h5\n",
      "Epoch 11/30\n",
      " - 9s - loss: 3.9519 - val_loss: 4.2925\n",
      "\n",
      "Epoch 00011: val_loss improved from 4.48944 to 4.29246, saving model to model.h5\n",
      "Epoch 12/30\n",
      " - 9s - loss: 3.6876 - val_loss: 4.1466\n",
      "\n",
      "Epoch 00012: val_loss improved from 4.29246 to 4.14659, saving model to model.h5\n",
      "Epoch 13/30\n",
      " - 9s - loss: 3.4565 - val_loss: 4.0221\n",
      "\n",
      "Epoch 00013: val_loss improved from 4.14659 to 4.02206, saving model to model.h5\n",
      "Epoch 14/30\n",
      " - 9s - loss: 3.2508 - val_loss: 3.9134\n",
      "\n",
      "Epoch 00014: val_loss improved from 4.02206 to 3.91336, saving model to model.h5\n",
      "Epoch 15/30\n",
      " - 9s - loss: 3.0593 - val_loss: 3.8192\n",
      "\n",
      "Epoch 00015: val_loss improved from 3.91336 to 3.81919, saving model to model.h5\n",
      "Epoch 16/30\n",
      " - 9s - loss: 2.8826 - val_loss: 3.7372\n",
      "\n",
      "Epoch 00016: val_loss improved from 3.81919 to 3.73720, saving model to model.h5\n",
      "Epoch 17/30\n",
      " - 9s - loss: 2.7139 - val_loss: 3.6788\n",
      "\n",
      "Epoch 00017: val_loss improved from 3.73720 to 3.67879, saving model to model.h5\n",
      "Epoch 18/30\n",
      " - 9s - loss: 2.5522 - val_loss: 3.6130\n",
      "\n",
      "Epoch 00018: val_loss improved from 3.67879 to 3.61299, saving model to model.h5\n",
      "Epoch 19/30\n",
      " - 9s - loss: 2.4009 - val_loss: 3.5636\n",
      "\n",
      "Epoch 00019: val_loss improved from 3.61299 to 3.56358, saving model to model.h5\n",
      "Epoch 20/30\n",
      " - 9s - loss: 2.2541 - val_loss: 3.5158\n",
      "\n",
      "Epoch 00020: val_loss improved from 3.56358 to 3.51581, saving model to model.h5\n",
      "Epoch 21/30\n",
      " - 9s - loss: 2.1163 - val_loss: 3.4740\n",
      "\n",
      "Epoch 00021: val_loss improved from 3.51581 to 3.47396, saving model to model.h5\n",
      "Epoch 22/30\n",
      " - 9s - loss: 1.9841 - val_loss: 3.4323\n",
      "\n",
      "Epoch 00022: val_loss improved from 3.47396 to 3.43227, saving model to model.h5\n",
      "Epoch 23/30\n",
      " - 9s - loss: 1.8590 - val_loss: 3.4041\n",
      "\n",
      "Epoch 00023: val_loss improved from 3.43227 to 3.40410, saving model to model.h5\n",
      "Epoch 24/30\n",
      " - 9s - loss: 1.7379 - val_loss: 3.3672\n",
      "\n",
      "Epoch 00024: val_loss improved from 3.40410 to 3.36715, saving model to model.h5\n",
      "Epoch 25/30\n",
      " - 9s - loss: 1.6242 - val_loss: 3.3526\n",
      "\n",
      "Epoch 00025: val_loss improved from 3.36715 to 3.35258, saving model to model.h5\n",
      "Epoch 26/30\n",
      " - 9s - loss: 1.5160 - val_loss: 3.3252\n",
      "\n",
      "Epoch 00026: val_loss improved from 3.35258 to 3.32515, saving model to model.h5\n",
      "Epoch 27/30\n",
      " - 9s - loss: 1.4144 - val_loss: 3.3144\n",
      "\n",
      "Epoch 00027: val_loss improved from 3.32515 to 3.31442, saving model to model.h5\n",
      "Epoch 28/30\n",
      " - 9s - loss: 1.3187 - val_loss: 3.2989\n",
      "\n",
      "Epoch 00028: val_loss improved from 3.31442 to 3.29889, saving model to model.h5\n",
      "Epoch 29/30\n",
      " - 9s - loss: 1.2310 - val_loss: 3.3010\n",
      "\n",
      "Epoch 00029: val_loss did not improve\n",
      "Epoch 30/30\n",
      " - 9s - loss: 1.1452 - val_loss: 3.2852\n",
      "\n",
      "Epoch 00030: val_loss improved from 3.29889 to 3.28522, saving model to model.h5\n"
     ]
    },
    {
     "data": {
      "text/plain": [
       "<keras.callbacks.History at 0x7f8fc8880f28>"
      ]
     },
     "execution_count": 21,
     "metadata": {},
     "output_type": "execute_result"
    }
   ],
   "source": [
    "dataset = load_clean_sentences('english-spanish-both.pkl')\n",
    "train = load_clean_sentences('english-spanish-train.pkl')\n",
    "test = load_clean_sentences('english-spanish-test.pkl')\n",
    "\n",
    "# prepare english tokenizer\n",
    "eng_tokenizer = create_tokenizer(dataset[:, 0])\n",
    "eng_vocab_size = len(eng_tokenizer.word_index) + 1\n",
    "eng_length = max_length(dataset[:, 0])\n",
    "print('English Vocabulary Size: %d' % eng_vocab_size)\n",
    "print('English Max Length: %d' % (eng_length))\n",
    "# prepare german tokenizer\n",
    "ger_tokenizer = create_tokenizer(dataset[:, 1])\n",
    "ger_vocab_size = len(ger_tokenizer.word_index) + 1\n",
    "ger_length = max_length(dataset[:, 1])\n",
    "print('German Vocabulary Size: %d' % ger_vocab_size)\n",
    "print('German Max Length: %d' % (ger_length))\n",
    "\n",
    "# prepare training data\n",
    "trainX = encode_sequences(ger_tokenizer, ger_length, train[:, 1])\n",
    "trainY = encode_sequences(eng_tokenizer, eng_length, train[:, 0])\n",
    "trainY = encode_output(trainY, eng_vocab_size)\n",
    "# prepare validation data\n",
    "testX = encode_sequences(ger_tokenizer, ger_length, test[:, 1])\n",
    "testY = encode_sequences(eng_tokenizer, eng_length, test[:, 0])\n",
    "testY = encode_output(testY, eng_vocab_size)\n",
    "\n",
    "# define model\n",
    "model = define_model(ger_vocab_size, eng_vocab_size, ger_length, eng_length,128)\n",
    "model.compile(optimizer='adam', loss='categorical_crossentropy')\n",
    "# summarize defined model\n",
    "print(model.summary())\n",
    "# plot_model(model, to_file='model.png', show_shapes=True)\n",
    "# fit model\n",
    "filename = 'model.h5'\n",
    "checkpoint = ModelCheckpoint(filename, monitor='val_loss', verbose=1, save_best_only=True, mode='min')\n",
    "monitor = EarlyStopping(monitor='val_loss', min_delta=1e-3, patience=5, verbose=1, mode='auto')\n",
    "model.fit(trainX, trainY, epochs=50, batch_size=64, validation_data=(testX, testY), callbacks=[checkpoint,monitor], verbose=2)"
   ]
  },
  {
   "cell_type": "code",
   "execution_count": null,
   "metadata": {
    "ExecuteTime": {
     "end_time": "2018-05-02T13:06:41.453411Z",
     "start_time": "2018-05-02T13:06:41.449408Z"
    }
   },
   "outputs": [],
   "source": []
  },
  {
   "cell_type": "code",
   "execution_count": null,
   "metadata": {},
   "outputs": [],
   "source": []
  }
 ],
 "metadata": {
  "kernelspec": {
   "display_name": "conda_tensorflow_p36",
   "language": "python",
   "name": "conda_tensorflow_p36"
  },
  "language_info": {
   "codemirror_mode": {
    "name": "ipython",
    "version": 3
   },
   "file_extension": ".py",
   "mimetype": "text/x-python",
   "name": "python",
   "nbconvert_exporter": "python",
   "pygments_lexer": "ipython3",
   "version": "3.6.4"
  },
  "toc": {
   "nav_menu": {},
   "number_sections": true,
   "sideBar": true,
   "skip_h1_title": false,
   "title_cell": "Table of Contents",
   "title_sidebar": "Contents",
   "toc_cell": false,
   "toc_position": {},
   "toc_section_display": true,
   "toc_window_display": false
  },
  "varInspector": {
   "cols": {
    "lenName": 16,
    "lenType": 16,
    "lenVar": 40
   },
   "kernels_config": {
    "python": {
     "delete_cmd_postfix": "",
     "delete_cmd_prefix": "del ",
     "library": "var_list.py",
     "varRefreshCmd": "print(var_dic_list())"
    },
    "r": {
     "delete_cmd_postfix": ") ",
     "delete_cmd_prefix": "rm(",
     "library": "var_list.r",
     "varRefreshCmd": "cat(var_dic_list()) "
    }
   },
   "types_to_exclude": [
    "module",
    "function",
    "builtin_function_or_method",
    "instance",
    "_Feature"
   ],
   "window_display": false
  }
 },
 "nbformat": 4,
 "nbformat_minor": 2
}
